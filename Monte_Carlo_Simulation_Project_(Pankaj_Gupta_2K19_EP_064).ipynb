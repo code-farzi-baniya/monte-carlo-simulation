{
  "nbformat": 4,
  "nbformat_minor": 0,
  "metadata": {
    "colab": {
      "name": "Monte_Carlo_Simulation_Project_(Pankaj_Gupta_2K19_EP_064).ipynb",
      "provenance": [],
      "collapsed_sections": []
    },
    "kernelspec": {
      "display_name": "Python 3",
      "language": "python",
      "name": "python3"
    },
    "language_info": {
      "codemirror_mode": {
        "name": "ipython",
        "version": 3
      },
      "file_extension": ".py",
      "mimetype": "text/x-python",
      "name": "python",
      "nbconvert_exporter": "python",
      "pygments_lexer": "ipython3",
      "version": "3.8.3"
    }
  },
  "cells": [
    {
      "cell_type": "code",
      "metadata": {
        "id": "C38YxlDfYJaO"
      },
      "source": [
        "import pandas_datareader.data as web\n",
        "import pandas as pd\n",
        "\n",
        "# for financial stocks prediction simulation\n",
        "import datetime as dt\n",
        "import numpy as np\n",
        "import matplotlib.pyplot as plt\n",
        "from matplotlib import style\n",
        "import random \n",
        "import math\n",
        "style.use('ggplot')\n",
        "\n",
        "# for casino : The house always wins! simulation\n",
        "from tqdm import tqdm, trange \n",
        "import plotly.offline as pyo\n",
        "import plotly.graph_objs as go\n",
        "import plotly.figure_factory as ff\n",
        "pyo.init_notebook_mode(connected= True)"
      ],
      "execution_count": null,
      "outputs": []
    },
    {
      "cell_type": "markdown",
      "metadata": {
        "id": "lQNxQjhfaxQN"
      },
      "source": [
        "# Sic Bo Game : Simulating that the House always wins!"
      ]
    },
    {
      "cell_type": "code",
      "metadata": {
        "id": "HwvATIFra1sU"
      },
      "source": [
        "# 1 game\n",
        "def game(money,bet):\n",
        "    r = np.random.randint(1,1000)\n",
        "\n",
        "    # if 1-486, means we picked small / big , we win\n",
        "    # else we lost\n",
        "    if r <= 486:\n",
        "        money = money + bet\n",
        "    else:\n",
        "        money = money - bet\n",
        "\n",
        "    return money\n",
        "\n",
        "# 1 try (1 instance)\n",
        "def instance_in_casino(money,bet,n_games):\n",
        "    # store money\n",
        "    money_df = pd.DataFrame(columns = {'money','game'})\n",
        "    current_money = np.copy(money)\n",
        "    for i in range(1,n_games+1):\n",
        "        game_df = pd.DataFrame(columns = {'money','game'})\n",
        "        current_money = game(current_money,bet)\n",
        "        game_df['money'] = [current_money]\n",
        "        game_df['game'] = [i]\n",
        "\n",
        "        # append money\n",
        "        money_df = pd.concat([money_df,game_df], axis = 0)\n",
        "    return money_df\n",
        "# n tries (simulation) n instances \n",
        "# store all instances in one df \n",
        "\n",
        "def multiple_instance(money,bet,n_games,n_instance):\n",
        "    output = pd.DataFrame()\n",
        "    # loop instances \n",
        "    for j in trange(1,n_instance+1):\n",
        "        temp = instance_in_casino(money,bet,n_games)\n",
        "        temp['instance'] = j\n",
        "        output = pd.concat([output,temp], axis = 0)\n",
        "        del temp    \n",
        "    return output \n",
        "\n",
        "def plot_monte_carlo_results(df):\n",
        "    # append each game's result into data for plot \n",
        "    data = []\n",
        "    n_unique = len(df['instance'].unique())\n",
        "    for k in trange(1,n_unique+1):\n",
        "        dff = df[df['instance'] == k]\n",
        "        t = go.Scatter(x = dff['game'], y = dff['money'], mode = 'lines',hoverinfo='none')\n",
        "        data.append(t)\n",
        "    return data\n",
        "\n",
        "# define some layout for our plots \n",
        "def plot_layout(n_games,mean_value):\n",
        "    \n",
        "    layout = go.Layout(title = 'Monte Carlo Simulation of Simplified Small & Big (Sic Bo)',\n",
        "                    shapes = [dict(type = 'line',xref = 'x', yref = 'y',x0 = 0,y0 = mean_value, x1 = n_games, y1 = mean_value,line=dict(\n",
        "                    color=\"red\",\n",
        "                    width=5))],\n",
        "                      xaxis = dict(title = 'Number of games',dtick = 1),\n",
        "                      yaxis = dict(title = 'Money ($)'),\n",
        "                      showlegend = False,\n",
        "                      template = 'plotly_dark',\n",
        "                      annotations=[\n",
        "                          dict(text=\"The red line is representing the Mean Value = {} $\".format(mean_value),\n",
        "                          showarrow=True )]) \n",
        "    return layout\n",
        "\n",
        "# expected money \n",
        "def expected_money(df,n_games,n_instance):\n",
        "    histogram_df = df[df['game'] == n_games]\n",
        "    histogram_df.money = histogram_df.money.astype(np.int)   \n",
        "    expected_reward = np.mean(histogram_df['money'])  \n",
        "    return expected_reward"
      ],
      "execution_count": null,
      "outputs": []
    },
    {
      "cell_type": "markdown",
      "metadata": {
        "id": "kBGCeErxnmV0"
      },
      "source": [
        "# 1000 instances of 10 games each"
      ]
    },
    {
      "cell_type": "code",
      "metadata": {
        "id": "DnqsqwnwbpPt"
      },
      "source": [
        "test = multiple_instance(1000,100,10,1000)\n",
        "test.head(20)"
      ],
      "execution_count": null,
      "outputs": []
    },
    {
      "cell_type": "code",
      "metadata": {
        "id": "ibGyRBgRbs4k"
      },
      "source": [
        "data = plot_monte_carlo_results(test)"
      ],
      "execution_count": null,
      "outputs": []
    },
    {
      "cell_type": "code",
      "metadata": {
        "id": "tdyhVgbGb0LJ"
      },
      "source": [
        "expected_money(test,10,1000)"
      ],
      "execution_count": null,
      "outputs": []
    },
    {
      "cell_type": "code",
      "metadata": {
        "id": "zvJrDKMpb2Uz"
      },
      "source": [
        "layout = plot_layout(10,expected_money(test,10,1000))\n",
        "pyo.iplot(go.Figure(data, layout),config={'displayModeBar': True})"
      ],
      "execution_count": null,
      "outputs": []
    },
    {
      "cell_type": "markdown",
      "metadata": {
        "id": "yprqKkwNb_ha"
      },
      "source": [
        "# 5000 instances of 10 games each"
      ]
    },
    {
      "cell_type": "code",
      "metadata": {
        "id": "mAx73RqqcAtT"
      },
      "source": [
        "five_thousand_instance = multiple_instance(1000,100,10,5000)"
      ],
      "execution_count": null,
      "outputs": []
    },
    {
      "cell_type": "code",
      "metadata": {
        "id": "9UOFHZO4cDIf"
      },
      "source": [
        "data2 = plot_monte_carlo_results(five_thousand_instance)"
      ],
      "execution_count": null,
      "outputs": []
    },
    {
      "cell_type": "code",
      "metadata": {
        "id": "Vnh-SnINcFLX"
      },
      "source": [
        "expected_money(five_thousand_instance,10,5000)"
      ],
      "execution_count": null,
      "outputs": []
    },
    {
      "cell_type": "code",
      "metadata": {
        "id": "K6It2YUecHF8"
      },
      "source": [
        "layout = plot_layout(10,expected_money(five_thousand_instance,10,5000))"
      ],
      "execution_count": null,
      "outputs": []
    },
    {
      "cell_type": "code",
      "metadata": {
        "id": "u9cTTW9mcJQJ"
      },
      "source": [
        "pyo.iplot(go.Figure(data2, layout))"
      ],
      "execution_count": null,
      "outputs": []
    },
    {
      "cell_type": "markdown",
      "metadata": {
        "id": "Z70W-CBXchcG"
      },
      "source": [
        "# 2000 instances with 20 games"
      ]
    },
    {
      "cell_type": "code",
      "metadata": {
        "id": "6K46nXMGcNSR"
      },
      "source": [
        "two_thousand_instances = multiple_instance(1000,100,20,2000)"
      ],
      "execution_count": null,
      "outputs": []
    },
    {
      "cell_type": "code",
      "metadata": {
        "id": "p44fClvNcyZy"
      },
      "source": [
        "data3 = plot_monte_carlo_results(two_thousand_instances)"
      ],
      "execution_count": null,
      "outputs": []
    },
    {
      "cell_type": "code",
      "metadata": {
        "id": "Se_jgoiSc0WB"
      },
      "source": [
        "expected_money(two_thousand_instances,20,2000)"
      ],
      "execution_count": null,
      "outputs": []
    },
    {
      "cell_type": "code",
      "metadata": {
        "id": "gpVMkUG9c18i"
      },
      "source": [
        "layout = plot_layout(20,expected_money(two_thousand_instances,20,2000))"
      ],
      "execution_count": null,
      "outputs": []
    },
    {
      "cell_type": "code",
      "metadata": {
        "id": "Zoo3rgUTc3l9"
      },
      "source": [
        "pyo.iplot(go.Figure(data3, layout))"
      ],
      "execution_count": null,
      "outputs": []
    },
    {
      "cell_type": "markdown",
      "metadata": {
        "id": "FBDRT8JQYP4K"
      },
      "source": [
        "# Definite Integration :\n",
        "\n",
        "*   Finding an approximate solution to a definate intergal problem\n",
        "*   Assumptions : We know the limits \n",
        "\n"
      ]
    },
    {
      "cell_type": "code",
      "metadata": {
        "id": "WmkxGtyxuXBf"
      },
      "source": [
        "# using monte carlo methods to approximately solve an integral of log(x) / x from 1 to 10 limits:\n",
        "\n",
        "def function(x):\n",
        "  return math.log(x) / x\n",
        "\n",
        "count = 0.0\n",
        "in_area = 0.0\n",
        "\n",
        "while count < 10000:   # our sampling quantity\n",
        "  x_coord = random.uniform(1,10)\n",
        "  y_coord = random.uniform(0,1/math.exp(1))\n",
        "\n",
        "  if y_coord < function(x_coord):\n",
        "    in_area+=1\n",
        "\n",
        "  count+=1\n",
        "area_box = 9 / math.exp(1)\n",
        "\n",
        "print((in_area / count) * area_box) \n",
        "absolute_error = 1 / math.sqrt(count)\n",
        "print(absolute_error)"
      ],
      "execution_count": null,
      "outputs": []
    },
    {
      "cell_type": "markdown",
      "metadata": {
        "id": "nX31RlJEnmVv"
      },
      "source": [
        "# Estimating value of π : "
      ]
    },
    {
      "cell_type": "code",
      "metadata": {
        "id": "P5ZRsoyjnmVw"
      },
      "source": [
        "Interval= 100\n",
        "circle_points = 0\n",
        "square_points = 0\n",
        "for i in range(Interval**2):\n",
        "# Range of x and y values is -1 to 1\n",
        "    x= random.uniform(-1, 1)\n",
        "    y= random.uniform(-1, 1)\n",
        "# Distance between (x, y) from the origin\n",
        "    origin_dist= x**2 + y**2\n",
        "\n",
        "# Checking if (x, y) lies inside the circle\n",
        "    if origin_dist<= 1:\n",
        "        circle_points+= 1\n",
        "\n",
        "    square_points+= 1\n",
        "\n",
        "# Estimating value of pi,formula we have used : \n",
        "# pi = 4 * (no. of points generated inside the circle)/ (no. of points generated inside the square)\n",
        "    pi = 4* circle_points/ square_points\n",
        "#     print(x, y, circle_points, square_points, \"-\", pi)\n",
        "#     print(\"\\n\\n\")\n",
        "print(\"Final Estimation of Pi=\", pi)"
      ],
      "execution_count": null,
      "outputs": []
    },
    {
      "cell_type": "markdown",
      "metadata": {
        "id": "wia9gfU3X6B1"
      },
      "source": [
        "# Prelimnary Stocks Price Prediction Simulation"
      ]
    },
    {
      "cell_type": "code",
      "metadata": {
        "id": "M57DFD31ZPZt"
      },
      "source": [
        "start = dt.datetime(2020,1,1)\n",
        "end = dt.datetime(2020,12,1)\n",
        "\n",
        "prices = web.DataReader('AAPL','iex',start,end,api_key='sk_e8941bb4d5b048c4bcbc13ebc1b0f32a')['close']"
      ],
      "execution_count": null,
      "outputs": []
    },
    {
      "cell_type": "code",
      "metadata": {
        "id": "k89HlqQghr_y"
      },
      "source": [
        "prices.describe()\n",
        "returns = prices.pct_change()\n",
        "last_price = prices[-1]\n",
        "# time_diff = (dt.date(2020,1,1) - dt.date(2020,12,1)).days\n",
        "# print(time_diff)"
      ],
      "execution_count": null,
      "outputs": []
    },
    {
      "cell_type": "code",
      "metadata": {
        "id": "SgacVjIQiW6j"
      },
      "source": [
        "# number of trials :\n",
        "\n",
        "num_simulations = 1000\n",
        "num_days = 251\n",
        "\n",
        "simulation_df = pd.DataFrame()\n",
        "\n",
        "for x in range(num_simulations):\n",
        "  count = 0\n",
        "  daily_vol = returns.std()\n",
        "  price_series = []\n",
        "  price_series = []\n",
        "    \n",
        "  price = last_price * (1 + np.random.normal(0, daily_vol))\n",
        "  price_series.append(price)\n",
        "    \n",
        "  for y in range(num_days):\n",
        "    if (count == 232):\n",
        "        break\n",
        "    price = price_series[count] * (1 + np.random.normal(0, daily_vol))\n",
        "    price_series.append(price)\n",
        "    count += 1\n",
        "    \n",
        "  simulation_df[x] = price_series\n",
        "fig = plt.figure(figsize = (15,8),facecolor = 'black')\n",
        "fig.suptitle('Monte Carlo Simulation: AAPL',color = 'white',fontsize = 20)\n",
        "plt.plot(simulation_df)\n",
        "plt.axhline(y = last_price, color = 'r', linestyle = '-',label = last_price)\n",
        "plt.xlabel('Day',color = 'white',fontsize = 15)\n",
        "plt.tick_params(axis='x', colors='white')\n",
        "plt.tick_params(axis='y', colors='white')\n",
        "plt.text(-5.5, 300.5, 'last price : {}'.format(last_price), bbox=dict(facecolor='yellow', alpha=0.5))\n",
        "plt.ylabel('Price',color = 'white',fontsize = 15)\n",
        "plt.show()\n"
      ],
      "execution_count": null,
      "outputs": []
    }
  ]
}